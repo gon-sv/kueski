{
 "cells": [
  {
   "cell_type": "markdown",
   "metadata": {},
   "source": [
    "Creación de containers"
   ]
  },
  {
   "cell_type": "markdown",
   "metadata": {},
   "source": [
    "Antes de poder utilizar Amazon SageMaker para crear procesos que nos permitan preparar nuestros datos, entrenar un modelo, optimizar algún algoritmo y desplegar el modelo como un Endpoint, primero vamos a crear 3 contenedores Docker: uno para la preparación de los datos, otro para el entrenamiento de los modelos y el último para el despliegue y hosting del modelo.\n",
    "\n",
    "Amazon SageMaker proporciona contenedores Docker con los frameworks más comúnmente utilizados hoy en día, así como contenedores con implementaciones de algoritmos comunes y si bien podríamos simplemente utilizar alguno de esos contenedores, en este capítulo crearemos nuestros propios contenedores con las dependencias que pudiéramos llegar a requerir."
   ]
  },
  {
   "cell_type": "markdown",
   "metadata": {},
   "source": [
    "necesitamos autenticarnos y para esto debemos obtener una cuenta en DockerHub y sustituir usuario y constraseña por los valores correspondientes."
   ]
  },
  {
   "cell_type": "code",
   "execution_count": null,
   "metadata": {},
   "outputs": [],
   "source": [
    "secret_name = 'dockerhub'\n",
    "sagemaker_utils.create_secret(secret_name,'usuario','contraseña')\n"
   ]
  },
  {
   "cell_type": "markdown",
   "metadata": {},
   "source": [
    "Necesitaremos un rol de ejecución para ser utilizado en el proyecto de AWS Code Build. Si estamos ejecutando el Notebook con permisos suficientes para crear un rol de IAM, podemos crear el rol simplemente ejecutando el siguiente método, de lo contrario tendría que ser creado de forma manual."
   ]
  },
  {
   "cell_type": "code",
   "execution_count": null,
   "metadata": {},
   "outputs": [],
   "source": [
    "policy_document={\n",
    "        \"Version\": \"2022-05-06\",\n",
    "        \"Statement\": [               \n",
    "            {\n",
    "                \"Effect\": \"Allow\",\n",
    "                \"Action\": [\n",
    "                    \"ecr:BatchCheckLayerAvailability\",\n",
    "                    \"ecr:CompleteLayerUpload\",\n",
    "                    \"ecr:GetAuthorizationToken\",\n",
    "                    \"ecr:InitiateLayerUpload\",\n",
    "                    \"ecr:PutImage\",\n",
    "                    \"ecr:UploadLayerPart\",\n",
    "                    \"ecr:BatchGetImage\",\n",
    "                    \"ecr:GetDownloadUrlForLayer\",\n",
    "                    \"logs:CreateLogGroup\",\n",
    "                    \"logs:CreateLogStream\",\n",
    "                    \"logs:PutLogEvents\",\n",
    "                    \"s3:PutObject\",\n",
    "                    \"s3:GetObject\",\n",
    "                    \"s3:GetObjectVersion\",\n",
    "                    \"secretsmanager:GetSecretValue\"\n",
    "                ],\n",
    "                \"Resource\": \"*\"\n",
    "            }\n",
    "        ]\n",
    "    }\n",
    "\n",
    "codebuild_role = sagemaker_utils.create_codebuild_execution_role('CodeBuildExecutionRole', policy_document)\n"
   ]
  },
  {
   "cell_type": "markdown",
   "metadata": {},
   "source": [
    "Especificamos las dependencias requeridas para cada uno de los contenedores Docker que crearemos."
   ]
  },
  {
   "cell_type": "code",
   "execution_count": null,
   "metadata": {},
   "outputs": [],
   "source": [
    "docker_images = {'Processing':{'libraries':{'pandas':'1.4.0',\n",
    "                                            'numpy':'1.22.3',\n",
    "                                            'scikit-learn':'1.0.2'}},\n",
    "                 'Training':{'libraries':{'pandas':'1.4.0',\n",
    "                                            'numpy':'1.22.3',\n",
    "                                            'scikit-learn':'1.0.2',\n",
    "                                          'sagemaker-training':'3.9.2'}},\n",
    "                 'Inference':{'libraries':{'pandas':'1.4.0',\n",
    "                                            'numpy':'1.22.3',\n",
    "                                            'scikit-learn':'1.0.2',\n",
    "                                           'multi-model-server':'1.1.8',                            \n",
    "                                           'sagemaker-inference':'1.5.11',\n",
    "                                           'boto3':'1.21.43',\n",
    "                                           'itsdangerous':'2.0.1'},\n",
    "                              'dependencies':[('serving','/opt/ml/serving')],\n",
    "                              'others':['RUN pip install -e /opt/ml/serving',\n",
    "                                        'LABEL com.amazonaws.sagemaker.capabilities.multi-models=false',\n",
    "                                        'LABEL com.amazonaws.sagemaker.capabilities.accept-bind-to-port=true'],\n",
    "                              'entrypoint':['python','/opt/ml/serving/custom_inference/serving.py'],\n",
    "                              'cmd':['serve']}}\n"
   ]
  },
  {
   "cell_type": "markdown",
   "metadata": {},
   "source": [
    "Creamos y publicamos las imágenes Docker en Amazon Elastic Container Registry para posteriormente poder ser utilizados en los jobs que crearemos y lanzaremos"
   ]
  },
  {
   "cell_type": "code",
   "execution_count": null,
   "metadata": {},
   "outputs": [],
   "source": [
    "for image in docker_images:\n",
    "    parameters = {'image_name': f'{prefix}-{image.lower()}',\n",
    "                  'base_image': 'python:3.7.6-slim-buster',\n",
    "                  's3_path': f's3://{bucket}/{images_directory}',\n",
    "                  'role': codebuild_role,  \n",
    "                  'secret': secret_name,\n",
    "                  'wait': False}\n",
    "    \n",
    "    parameters.update(docker_images[image])\n",
    "    \n",
    "    docker_images[image]['build_id'] = sagemaker_utils.create_docker_image(**parameters)  \n"
   ]
  },
  {
   "cell_type": "code",
   "execution_count": null,
   "metadata": {},
   "outputs": [],
   "source": [
    "#definimos un waiter\n",
    "\n",
    "image_uris = sagemaker_utils.wait_for_build([docker_images[image]['build_id'] for image in docker_images])\n",
    "for image in docker_images:\n",
    "    docker_images[image]['image_uri'] = image_uris[docker_images[image]['build_id']]\n"
   ]
  }
 ],
 "metadata": {
  "interpreter": {
   "hash": "8f087cbbaaafa03b885b484966f26ebaef7143783b0ae783847677076d63b434"
  },
  "kernelspec": {
   "display_name": "Python 3.9.12 ('drift_env')",
   "language": "python",
   "name": "python3"
  },
  "language_info": {
   "name": "python",
   "version": "3.9.12"
  },
  "orig_nbformat": 4
 },
 "nbformat": 4,
 "nbformat_minor": 2
}
