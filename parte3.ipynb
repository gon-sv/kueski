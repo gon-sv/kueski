{
 "cells": [
  {
   "cell_type": "markdown",
   "metadata": {},
   "source": [
    "Preparación de los datos:\n",
    "\n",
    "primero debemos subir los datos a Amazon S3\n",
    "\n",
    "posteriormente crearemos un Job de Procesamiento en SageMaker el cual nos permitirá realizar las transformaciones necesarias a nuestro dataset como preparación para el entrenamiento de nuestros modelos\n",
    "\n",
    "Los jobs de procesamiento de Amazon SageMaker pueden ser utilizados para preparar los datasets o evaluar modelos de Machine Learning.\n",
    "\n",
    "\n",
    "se debe proporcionar la siguiente información:\n",
    "\n",
    "Script Python a ser utilizado por el job de procesamiento\n",
    "Los recursos de cómputo que queremos que Amazon SageMaker utilice para el procesamiento\n",
    "La URL del bucket de Amazon S3 en dónde se encuentran los datos que serán utilizados en el job de procesamiento\n",
    "La URL del bucket de Amazon S3 en el cual queremeos que se guarde el resultado del job de procesamiento\n",
    "La ruta de Amazon Elastic Container Registry de la imagen Docker a ser utilizada para ejecutar el script del job de procesamiento. Puede ser alguno de los proporcionados por SageMaker o una imagen Docker creada personalizada"
   ]
  },
  {
   "cell_type": "code",
   "execution_count": null,
   "metadata": {},
   "outputs": [],
   "source": [
    "data_s3_path = sagemaker_utils.upload(data_file, f's3://{bucket}/{datasets_prefix}')"
   ]
  },
  {
   "cell_type": "markdown",
   "metadata": {},
   "source": [
    " primero crearemos un script python el cual nombraremos processing.py y tendrá toda la lógica necesaria para realizar las mismas transformaciones que en el Jupyter Notebook de ejemplo\n",
    " ver 3.5."
   ]
  }
 ],
 "metadata": {
  "interpreter": {
   "hash": "8f087cbbaaafa03b885b484966f26ebaef7143783b0ae783847677076d63b434"
  },
  "kernelspec": {
   "display_name": "Python 3.9.12 ('drift_env')",
   "language": "python",
   "name": "python3"
  },
  "language_info": {
   "name": "python",
   "version": "3.9.12"
  },
  "orig_nbformat": 4
 },
 "nbformat": 4,
 "nbformat_minor": 2
}
